{
 "cells": [
  {
   "cell_type": "code",
   "execution_count": 1,
   "id": "1556880e-281e-492f-b21c-5f40ef99ece7",
   "metadata": {},
   "outputs": [],
   "source": [
    "import random\n",
    "\n",
    "num = random.randint(1, 10)"
   ]
  },
  {
   "cell_type": "code",
   "execution_count": 2,
   "id": "50f2c5d4-ba7b-4ca9-a0fb-5427f3e79622",
   "metadata": {},
   "outputs": [
    {
     "data": {
      "text/plain": [
       "8"
      ]
     },
     "execution_count": 2,
     "metadata": {},
     "output_type": "execute_result"
    }
   ],
   "source": [
    "num"
   ]
  },
  {
   "cell_type": "code",
   "execution_count": 6,
   "id": "21debba3-fe7b-4e04-95c1-233f96bd0a31",
   "metadata": {},
   "outputs": [
    {
     "data": {
      "text/plain": [
       "[\" Il volume nell'unit… C Š Local Disk\",\n",
       " ' Numero di serie del volume: D6E8-21BE',\n",
       " '',\n",
       " ' Directory di C:\\\\Users\\\\rocke\\\\PycharmProjects\\\\class-bootcamp-jupyter',\n",
       " '',\n",
       " '07/02/2025  11:54    <DIR>          .',\n",
       " '07/02/2025  10:58    <DIR>          ..',\n",
       " '07/02/2025  11:23    <DIR>          .env',\n",
       " '07/02/2025  11:24    <DIR>          .idea',\n",
       " '07/02/2025  11:31    <DIR>          .ipynb_checkpoints',\n",
       " '07/02/2025  11:54             2.117 Untitled.ipynb',\n",
       " '               1 File          2.117 byte',\n",
       " '               5 Directory  14.283.407.360 byte disponibili']"
      ]
     },
     "execution_count": 6,
     "metadata": {},
     "output_type": "execute_result"
    }
   ],
   "source": [
    "path = !dir\n",
    "path"
   ]
  },
  {
   "cell_type": "code",
   "execution_count": 2,
   "id": "2200f1b4-effc-4699-b1b3-f6927ab92e33",
   "metadata": {},
   "outputs": [
    {
     "name": "stdout",
     "output_type": "stream",
     "text": [
      "Collecting pandasNote: you may need to restart the kernel to use updated packages.\n",
      "\n",
      "  Downloading pandas-2.2.3-cp310-cp310-win_amd64.whl.metadata (19 kB)\n",
      "Collecting numpy>=1.22.4 (from pandas)\n",
      "  Downloading numpy-2.2.2-cp310-cp310-win_amd64.whl.metadata (60 kB)\n",
      "Requirement already satisfied: python-dateutil>=2.8.2 in c:\\users\\rocke\\pycharmprojects\\class-bootcamp-jupyter\\.env\\lib\\site-packages (from pandas) (2.9.0.post0)\n",
      "Collecting pytz>=2020.1 (from pandas)\n",
      "  Downloading pytz-2025.1-py2.py3-none-any.whl.metadata (22 kB)\n",
      "Collecting tzdata>=2022.7 (from pandas)\n",
      "  Downloading tzdata-2025.1-py2.py3-none-any.whl.metadata (1.4 kB)\n",
      "Requirement already satisfied: six>=1.5 in c:\\users\\rocke\\pycharmprojects\\class-bootcamp-jupyter\\.env\\lib\\site-packages (from python-dateutil>=2.8.2->pandas) (1.17.0)\n",
      "Downloading pandas-2.2.3-cp310-cp310-win_amd64.whl (11.6 MB)\n",
      "   ---------------------------------------- 0.0/11.6 MB ? eta -:--:--\n",
      "    --------------------------------------- 0.3/11.6 MB ? eta -:--:--\n",
      "   - -------------------------------------- 0.5/11.6 MB 1.4 MB/s eta 0:00:08\n",
      "   -- ------------------------------------- 0.8/11.6 MB 1.6 MB/s eta 0:00:07\n",
      "   ---- ----------------------------------- 1.3/11.6 MB 1.7 MB/s eta 0:00:07\n",
      "   ------ --------------------------------- 1.8/11.6 MB 1.9 MB/s eta 0:00:06\n",
      "   -------- ------------------------------- 2.4/11.6 MB 1.8 MB/s eta 0:00:06\n",
      "   --------- ------------------------------ 2.6/11.6 MB 1.9 MB/s eta 0:00:05\n",
      "   --------- ------------------------------ 2.9/11.6 MB 1.8 MB/s eta 0:00:05\n",
      "   ----------- ---------------------------- 3.4/11.6 MB 1.8 MB/s eta 0:00:05\n",
      "   ------------ --------------------------- 3.7/11.6 MB 1.8 MB/s eta 0:00:05\n",
      "   ------------- -------------------------- 3.9/11.6 MB 1.8 MB/s eta 0:00:05\n",
      "   --------------- ------------------------ 4.5/11.6 MB 1.8 MB/s eta 0:00:05\n",
      "   ----------------- ---------------------- 5.0/11.6 MB 1.8 MB/s eta 0:00:04\n",
      "   ------------------ --------------------- 5.2/11.6 MB 1.8 MB/s eta 0:00:04\n",
      "   ------------------- -------------------- 5.8/11.6 MB 1.8 MB/s eta 0:00:04\n",
      "   -------------------- ------------------- 6.0/11.6 MB 1.8 MB/s eta 0:00:04\n",
      "   --------------------- ------------------ 6.3/11.6 MB 1.8 MB/s eta 0:00:03\n",
      "   ----------------------- ---------------- 6.8/11.6 MB 1.8 MB/s eta 0:00:03\n",
      "   ------------------------- -------------- 7.3/11.6 MB 1.8 MB/s eta 0:00:03\n",
      "   --------------------------- ------------ 7.9/11.6 MB 1.9 MB/s eta 0:00:03\n",
      "   ---------------------------- ----------- 8.1/11.6 MB 1.9 MB/s eta 0:00:02\n",
      "   ----------------------------- ---------- 8.7/11.6 MB 1.8 MB/s eta 0:00:02\n",
      "   ------------------------------ --------- 8.9/11.6 MB 1.8 MB/s eta 0:00:02\n",
      "   -------------------------------- ------- 9.4/11.6 MB 1.8 MB/s eta 0:00:02\n",
      "   ---------------------------------- ----- 10.0/11.6 MB 1.9 MB/s eta 0:00:01\n",
      "   ----------------------------------- ---- 10.2/11.6 MB 1.8 MB/s eta 0:00:01\n",
      "   ------------------------------------- -- 10.7/11.6 MB 1.9 MB/s eta 0:00:01\n",
      "   ------------------------------------- -- 11.0/11.6 MB 1.8 MB/s eta 0:00:01\n",
      "   ---------------------------------------  11.5/11.6 MB 1.9 MB/s eta 0:00:01\n",
      "   ---------------------------------------- 11.6/11.6 MB 1.8 MB/s eta 0:00:00\n",
      "Downloading numpy-2.2.2-cp310-cp310-win_amd64.whl (12.9 MB)\n",
      "   ---------------------------------------- 0.0/12.9 MB ? eta -:--:--\n",
      "    --------------------------------------- 0.3/12.9 MB ? eta -:--:--\n",
      "   -- ------------------------------------- 0.8/12.9 MB 1.9 MB/s eta 0:00:07\n",
      "   --- ------------------------------------ 1.0/12.9 MB 1.9 MB/s eta 0:00:07\n",
      "   ---- ----------------------------------- 1.6/12.9 MB 2.0 MB/s eta 0:00:06\n",
      "   ----- ---------------------------------- 1.8/12.9 MB 1.9 MB/s eta 0:00:06\n",
      "   ------- -------------------------------- 2.4/12.9 MB 2.0 MB/s eta 0:00:06\n",
      "   -------- ------------------------------- 2.9/12.9 MB 2.0 MB/s eta 0:00:06\n",
      "   ---------- ----------------------------- 3.4/12.9 MB 2.1 MB/s eta 0:00:05\n",
      "   ------------ --------------------------- 3.9/12.9 MB 2.1 MB/s eta 0:00:05\n",
      "   ------------- -------------------------- 4.5/12.9 MB 2.1 MB/s eta 0:00:05\n",
      "   --------------- ------------------------ 5.0/12.9 MB 2.1 MB/s eta 0:00:04\n",
      "   ---------------- ----------------------- 5.2/12.9 MB 2.1 MB/s eta 0:00:04\n",
      "   ----------------- ---------------------- 5.8/12.9 MB 2.1 MB/s eta 0:00:04\n",
      "   ------------------- -------------------- 6.3/12.9 MB 2.1 MB/s eta 0:00:04\n",
      "   --------------------- ------------------ 6.8/12.9 MB 2.1 MB/s eta 0:00:03\n",
      "   --------------------- ------------------ 7.1/12.9 MB 2.1 MB/s eta 0:00:03\n",
      "   ---------------------- ----------------- 7.3/12.9 MB 2.0 MB/s eta 0:00:03\n",
      "   ----------------------- ---------------- 7.6/12.9 MB 2.0 MB/s eta 0:00:03\n",
      "   ------------------------- -------------- 8.1/12.9 MB 2.0 MB/s eta 0:00:03\n",
      "   ------------------------- -------------- 8.4/12.9 MB 2.0 MB/s eta 0:00:03\n",
      "   --------------------------- ------------ 8.9/12.9 MB 2.0 MB/s eta 0:00:02\n",
      "   ---------------------------- ----------- 9.2/12.9 MB 2.0 MB/s eta 0:00:02\n",
      "   ----------------------------- ---------- 9.4/12.9 MB 2.0 MB/s eta 0:00:02\n",
      "   ------------------------------ --------- 10.0/12.9 MB 2.0 MB/s eta 0:00:02\n",
      "   ------------------------------- -------- 10.2/12.9 MB 1.9 MB/s eta 0:00:02\n",
      "   -------------------------------- ------- 10.5/12.9 MB 1.9 MB/s eta 0:00:02\n",
      "   --------------------------------- ------ 10.7/12.9 MB 1.9 MB/s eta 0:00:02\n",
      "   ---------------------------------- ----- 11.3/12.9 MB 1.9 MB/s eta 0:00:01\n",
      "   ------------------------------------ --- 11.8/12.9 MB 1.9 MB/s eta 0:00:01\n",
      "   -------------------------------------- - 12.3/12.9 MB 1.9 MB/s eta 0:00:01\n",
      "   -------------------------------------- - 12.6/12.9 MB 1.9 MB/s eta 0:00:01\n",
      "   ---------------------------------------  12.8/12.9 MB 1.9 MB/s eta 0:00:01\n",
      "   ---------------------------------------- 12.9/12.9 MB 1.9 MB/s eta 0:00:00\n",
      "Downloading pytz-2025.1-py2.py3-none-any.whl (507 kB)\n",
      "Downloading tzdata-2025.1-py2.py3-none-any.whl (346 kB)\n",
      "Installing collected packages: pytz, tzdata, numpy, pandas\n",
      "Successfully installed numpy-2.2.2 pandas-2.2.3 pytz-2025.1 tzdata-2025.1\n"
     ]
    }
   ],
   "source": [
    "pip install pandas"
   ]
  },
  {
   "cell_type": "code",
   "execution_count": 5,
   "id": "c25bbb63-e62e-4674-b1d8-f5cb1a2ebfa6",
   "metadata": {},
   "outputs": [],
   "source": [
    "import pandas as pd"
   ]
  },
  {
   "cell_type": "code",
   "execution_count": 8,
   "id": "9318e2ba-46e0-45bc-8021-b028d65f0f0c",
   "metadata": {},
   "outputs": [
    {
     "name": "stdout",
     "output_type": "stream",
     "text": [
      "Collecting matplotlib\n",
      "  Downloading matplotlib-3.10.0-cp310-cp310-win_amd64.whl.metadata (11 kB)\n",
      "Collecting contourpy>=1.0.1 (from matplotlib)\n",
      "  Downloading contourpy-1.3.1-cp310-cp310-win_amd64.whl.metadata (5.4 kB)\n",
      "Collecting cycler>=0.10 (from matplotlib)\n",
      "  Downloading cycler-0.12.1-py3-none-any.whl.metadata (3.8 kB)\n",
      "Collecting fonttools>=4.22.0 (from matplotlib)\n",
      "  Downloading fonttools-4.55.8-cp310-cp310-win_amd64.whl.metadata (103 kB)\n",
      "Collecting kiwisolver>=1.3.1 (from matplotlib)\n",
      "  Downloading kiwisolver-1.4.8-cp310-cp310-win_amd64.whl.metadata (6.3 kB)\n",
      "Requirement already satisfied: numpy>=1.23 in c:\\users\\rocke\\pycharmprojects\\class-bootcamp-jupyter\\.env\\lib\\site-packages (from matplotlib) (2.2.2)\n",
      "Requirement already satisfied: packaging>=20.0 in c:\\users\\rocke\\pycharmprojects\\class-bootcamp-jupyter\\.env\\lib\\site-packages (from matplotlib) (24.2)\n",
      "Collecting pillow>=8 (from matplotlib)\n",
      "  Downloading pillow-11.1.0-cp310-cp310-win_amd64.whl.metadata (9.3 kB)\n",
      "Collecting pyparsing>=2.3.1 (from matplotlib)\n",
      "  Downloading pyparsing-3.2.1-py3-none-any.whl.metadata (5.0 kB)\n",
      "Requirement already satisfied: python-dateutil>=2.7 in c:\\users\\rocke\\pycharmprojects\\class-bootcamp-jupyter\\.env\\lib\\site-packages (from matplotlib) (2.9.0.post0)\n",
      "Requirement already satisfied: six>=1.5 in c:\\users\\rocke\\pycharmprojects\\class-bootcamp-jupyter\\.env\\lib\\site-packages (from python-dateutil>=2.7->matplotlib) (1.17.0)\n",
      "Downloading matplotlib-3.10.0-cp310-cp310-win_amd64.whl (8.0 MB)\n",
      "   ---------------------------------------- 0.0/8.0 MB ? eta -:--:--\n",
      "   - -------------------------------------- 0.3/8.0 MB ? eta -:--:--\n",
      "   -- ------------------------------------- 0.5/8.0 MB 1.7 MB/s eta 0:00:05\n",
      "   ----- ---------------------------------- 1.0/8.0 MB 1.7 MB/s eta 0:00:05\n",
      "   ------ --------------------------------- 1.3/8.0 MB 1.8 MB/s eta 0:00:04\n",
      "   --------- ------------------------------ 1.8/8.0 MB 1.8 MB/s eta 0:00:04\n",
      "   ---------- ----------------------------- 2.1/8.0 MB 1.8 MB/s eta 0:00:04\n",
      "   ------------- -------------------------- 2.6/8.0 MB 1.8 MB/s eta 0:00:03\n",
      "   --------------- ------------------------ 3.1/8.0 MB 1.9 MB/s eta 0:00:03\n",
      "   ---------------- ----------------------- 3.4/8.0 MB 1.8 MB/s eta 0:00:03\n",
      "   ------------------- -------------------- 3.9/8.0 MB 1.9 MB/s eta 0:00:03\n",
      "   ---------------------- ----------------- 4.5/8.0 MB 1.9 MB/s eta 0:00:02\n",
      "   ----------------------- ---------------- 4.7/8.0 MB 1.9 MB/s eta 0:00:02\n",
      "   --------------------------- ------------ 5.5/8.0 MB 2.0 MB/s eta 0:00:02\n",
      "   ---------------------------- ----------- 5.8/8.0 MB 2.0 MB/s eta 0:00:02\n",
      "   ------------------------------- -------- 6.3/8.0 MB 2.0 MB/s eta 0:00:01\n",
      "   --------------------------------- ------ 6.8/8.0 MB 2.0 MB/s eta 0:00:01\n",
      "   ----------------------------------- ---- 7.1/8.0 MB 2.0 MB/s eta 0:00:01\n",
      "   ------------------------------------- -- 7.6/8.0 MB 2.0 MB/s eta 0:00:01\n",
      "   ---------------------------------------- 8.0/8.0 MB 2.0 MB/s eta 0:00:00\n",
      "Downloading contourpy-1.3.1-cp310-cp310-win_amd64.whl (218 kB)\n",
      "Downloading cycler-0.12.1-py3-none-any.whl (8.3 kB)\n",
      "Downloading fonttools-4.55.8-cp310-cp310-win_amd64.whl (2.2 MB)\n",
      "   ---------------------------------------- 0.0/2.2 MB ? eta -:--:--\n",
      "   ---- ----------------------------------- 0.3/2.2 MB ? eta -:--:--\n",
      "   -------------- ------------------------- 0.8/2.2 MB 1.8 MB/s eta 0:00:01\n",
      "   ------------------- -------------------- 1.0/2.2 MB 1.9 MB/s eta 0:00:01\n",
      "   ---------------------------- ----------- 1.6/2.2 MB 2.0 MB/s eta 0:00:01\n",
      "   -------------------------------------- - 2.1/2.2 MB 2.0 MB/s eta 0:00:01\n",
      "   ---------------------------------------- 2.2/2.2 MB 1.9 MB/s eta 0:00:00\n",
      "Downloading kiwisolver-1.4.8-cp310-cp310-win_amd64.whl (71 kB)\n",
      "Downloading pillow-11.1.0-cp310-cp310-win_amd64.whl (2.6 MB)\n",
      "   ---------------------------------------- 0.0/2.6 MB ? eta -:--:--\n",
      "   --- ------------------------------------ 0.3/2.6 MB ? eta -:--:--\n",
      "   ----------- ---------------------------- 0.8/2.6 MB 2.1 MB/s eta 0:00:01\n",
      "   --------------- ------------------------ 1.0/2.6 MB 2.2 MB/s eta 0:00:01\n",
      "   ----------------------- ---------------- 1.6/2.6 MB 2.1 MB/s eta 0:00:01\n",
      "   ------------------------------- -------- 2.1/2.6 MB 2.1 MB/s eta 0:00:01\n",
      "   ---------------------------------------  2.6/2.6 MB 2.1 MB/s eta 0:00:01\n",
      "   ---------------------------------------- 2.6/2.6 MB 2.0 MB/s eta 0:00:00\n",
      "Downloading pyparsing-3.2.1-py3-none-any.whl (107 kB)\n",
      "Installing collected packages: pyparsing, pillow, kiwisolver, fonttools, cycler, contourpy, matplotlib\n",
      "Successfully installed contourpy-1.3.1 cycler-0.12.1 fonttools-4.55.8 kiwisolver-1.4.8 matplotlib-3.10.0 pillow-11.1.0 pyparsing-3.2.1\n",
      "Note: you may need to restart the kernel to use updated packages.\n"
     ]
    }
   ],
   "source": [
    "pip install matplotlib"
   ]
  },
  {
   "cell_type": "code",
   "execution_count": 11,
   "id": "8bb8be2f-65f6-4df0-9fc3-665f63f2de3f",
   "metadata": {},
   "outputs": [],
   "source": [
    "from matplotlib import pyplot as plt"
   ]
  },
  {
   "cell_type": "code",
   "execution_count": 12,
   "id": "24577a15-8152-499f-94c5-06bcb29d3fe0",
   "metadata": {},
   "outputs": [],
   "source": [
    "a= list(range(10))\n",
    "b= [n** 2 for n in a]"
   ]
  },
  {
   "cell_type": "code",
   "execution_count": 13,
   "id": "557d6178-3f99-4a55-b5e4-248842d93bcb",
   "metadata": {},
   "outputs": [
    {
     "data": {
      "text/plain": [
       "([0, 1, 2, 3, 4, 5, 6, 7, 8, 9], [0, 1, 4, 9, 16, 25, 36, 49, 64, 81])"
      ]
     },
     "execution_count": 13,
     "metadata": {},
     "output_type": "execute_result"
    }
   ],
   "source": [
    "a, b"
   ]
  },
  {
   "cell_type": "code",
   "execution_count": 14,
   "id": "4ea86309-6965-4c31-b95d-f27df1bd22af",
   "metadata": {},
   "outputs": [
    {
     "data": {
      "image/png": "[encoded data removed]",
      "text/plain": [
       "<Figure size 640x480 with 1 Axes>"
      ]
     },
     "metadata": {},
     "output_type": "display_data"
    }
   ],
   "source": [
    "plt.bar(a, b)\n",
    "plt.show()"
   ]
  },
  {
   "cell_type": "code",
   "execution_count": null,
   "id": "1459bfec-3c67-434a-9bc7-1cb38b77e874",
   "metadata": {},
   "outputs": [],
   "source": []
  }
 ],
 "metadata": {
  "kernelspec": {
   "display_name": "Python 3 (ipykernel)",
   "language": "python",
   "name": "python3"
  },
  "language_info": {
   "codemirror_mode": {
    "name": "ipython",
    "version": 3
   },
   "file_extension": ".py",
   "mimetype": "text/x-python",
   "name": "python",
   "nbconvert_exporter": "python",
   "pygments_lexer": "ipython3",
   "version": "3.10.11"
  }
 },
 "nbformat": 4,
 "nbformat_minor": 5
}
