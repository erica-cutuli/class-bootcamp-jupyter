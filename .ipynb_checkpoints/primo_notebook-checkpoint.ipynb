{
 "cells": [
  {
   "cell_type": "code",
   "execution_count": 1,
   "id": "1556880e-281e-492f-b21c-5f40ef99ece7",
   "metadata": {},
   "outputs": [],
   "source": [
    "import random\n",
    "\n",
    "num = random.randint(1, 10)"
   ]
  },
  {
   "cell_type": "code",
   "execution_count": 2,
   "id": "50f2c5d4-ba7b-4ca9-a0fb-5427f3e79622",
   "metadata": {},
   "outputs": [
    {
     "data": {
      "text/plain": [
       "8"
      ]
     },
     "execution_count": 2,
     "metadata": {},
     "output_type": "execute_result"
    }
   ],
   "source": [
    "num"
   ]
  },
  {
   "cell_type": "code",
   "execution_count": 6,
   "id": "21debba3-fe7b-4e04-95c1-233f96bd0a31",
   "metadata": {},
   "outputs": [
    {
     "data": {
      "text/plain": [
       "[\" Il volume nell'unit… C Š Local Disk\",\n",
       " ' Numero di serie del volume: D6E8-21BE',\n",
       " '',\n",
       " ' Directory di C:\\\\Users\\\\rocke\\\\PycharmProjects\\\\class-bootcamp-jupyter',\n",
       " '',\n",
       " '07/02/2025  11:54    <DIR>          .',\n",
       " '07/02/2025  10:58    <DIR>          ..',\n",
       " '07/02/2025  11:23    <DIR>          .env',\n",
       " '07/02/2025  11:24    <DIR>          .idea',\n",
       " '07/02/2025  11:31    <DIR>          .ipynb_checkpoints',\n",
       " '07/02/2025  11:54             2.117 Untitled.ipynb',\n",
       " '               1 File          2.117 byte',\n",
       " '               5 Directory  14.283.407.360 byte disponibili']"
      ]
     },
     "execution_count": 6,
     "metadata": {},
     "output_type": "execute_result"
    }
   ],
   "source": [
    "path = !dir\n",
    "path"
   ]
  },
  {
   "cell_type": "code",
   "execution_count": null,
   "id": "5616305d-efeb-4f4d-8841-ab741ccb5070",
   "metadata": {},
   "outputs": [],
   "source": [
    "%timeit [n"
   ]
  }
 ],
 "metadata": {
  "kernelspec": {
   "display_name": "Python 3 (ipykernel)",
   "language": "python",
   "name": "python3"
  },
  "language_info": {
   "codemirror_mode": {
    "name": "ipython",
    "version": 3
   },
   "file_extension": ".py",
   "mimetype": "text/x-python",
   "name": "python",
   "nbconvert_exporter": "python",
   "pygments_lexer": "ipython3",
   "version": "3.10.11"
  }
 },
 "nbformat": 4,
 "nbformat_minor": 5
}
